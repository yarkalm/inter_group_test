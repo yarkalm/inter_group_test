{
  "nbformat": 4,
  "nbformat_minor": 0,
  "metadata": {
    "colab": {
      "provenance": [],
      "authorship_tag": "ABX9TyNrkRPoxzPumNLiRGTt3xLt",
      "include_colab_link": true
    },
    "kernelspec": {
      "name": "python3",
      "display_name": "Python 3"
    },
    "language_info": {
      "name": "python"
    },
    "accelerator": "GPU",
    "gpuClass": "standard"
  },
  "cells": [
    {
      "cell_type": "markdown",
      "metadata": {
        "id": "view-in-github",
        "colab_type": "text"
      },
      "source": [
        "<a href=\"https://colab.research.google.com/github/yarkalm/inter_group_test/blob/main/InterGroup.ipynb\" target=\"_parent\"><img src=\"https://colab.research.google.com/assets/colab-badge.svg\" alt=\"Open In Colab\"/></a>"
      ]
    },
    {
      "cell_type": "code",
      "execution_count": 132,
      "metadata": {
        "id": "lkWPa4DZzHzT"
      },
      "outputs": [],
      "source": [
        "import numpy as np\n",
        "import pandas as pd\n",
        "from random import seed\n",
        "from keras import models\n",
        "from keras import Sequential\n",
        "import matplotlib.pyplot as plt\n",
        "from sklearn.utils import shuffle\n",
        "from keras.utils import to_categorical\n",
        "from tensorflow.random import set_seed\n",
        "from keras.optimizers import Adam, SGD\n",
        "from keras.callbacks import ModelCheckpoint\n",
        "from keras.layers import Dense, Dropout, LSTM\n",
        "from sklearn.preprocessing import StandardScaler, Normalizer"
      ]
    },
    {
      "cell_type": "markdown",
      "source": [
        "# Загрузка данных и предобработка"
      ],
      "metadata": {
        "id": "RcjoVU96CPgj"
      }
    },
    {
      "cell_type": "code",
      "source": [
        "sd = 2\n",
        "seed(sd)\n",
        "np.random.seed(sd)\n",
        "set_seed(sd)"
      ],
      "metadata": {
        "id": "PGAzRcP6gFTe"
      },
      "execution_count": 133,
      "outputs": []
    },
    {
      "cell_type": "code",
      "source": [
        "df = pd.read_csv('/content/dataset.csv')"
      ],
      "metadata": {
        "id": "o8-0a6y1cxP7"
      },
      "execution_count": 134,
      "outputs": []
    },
    {
      "cell_type": "code",
      "source": [
        "df = df.sort_values(by=['symbol','time'])"
      ],
      "metadata": {
        "id": "FTginiCrc2UL"
      },
      "execution_count": 135,
      "outputs": []
    },
    {
      "cell_type": "code",
      "source": [
        "df.head(100)"
      ],
      "metadata": {
        "colab": {
          "base_uri": "https://localhost:8080/",
          "height": 423
        },
        "id": "lcdF1GOaDB3a",
        "outputId": "5a0cc6aa-fb6f-4a4e-ae8e-e1c0ecdcf841"
      },
      "execution_count": 136,
      "outputs": [
        {
          "output_type": "execute_result",
          "data": {
            "text/plain": [
              "         symbol  price                        time\n",
              "59     AAVEUSDT   81.4     2023-04-15 07:04:42.914\n",
              "192    AAVEUSDT   81.3     2023-04-15 07:06:48.448\n",
              "325    AAVEUSDT   81.5     2023-04-15 07:09:01.928\n",
              "458    AAVEUSDT   81.4     2023-04-15 07:11:03.419\n",
              "591    AAVEUSDT   81.4     2023-04-15 07:13:02.779\n",
              "...         ...    ...                         ...\n",
              "12666  AAVEUSDT   81.3  2023-04-16 20:23:03.002000\n",
              "12799  AAVEUSDT   81.4  2023-04-16 20:24:51.114000\n",
              "12932  AAVEUSDT   81.5  2023-04-16 20:26:45.795000\n",
              "13065  AAVEUSDT   81.5  2023-04-16 20:28:36.066000\n",
              "13198  AAVEUSDT   81.5  2023-04-16 20:30:25.899000\n",
              "\n",
              "[100 rows x 3 columns]"
            ],
            "text/html": [
              "\n",
              "  <div id=\"df-eaa7f650-443d-42a4-b339-5cebfd697f8e\">\n",
              "    <div class=\"colab-df-container\">\n",
              "      <div>\n",
              "<style scoped>\n",
              "    .dataframe tbody tr th:only-of-type {\n",
              "        vertical-align: middle;\n",
              "    }\n",
              "\n",
              "    .dataframe tbody tr th {\n",
              "        vertical-align: top;\n",
              "    }\n",
              "\n",
              "    .dataframe thead th {\n",
              "        text-align: right;\n",
              "    }\n",
              "</style>\n",
              "<table border=\"1\" class=\"dataframe\">\n",
              "  <thead>\n",
              "    <tr style=\"text-align: right;\">\n",
              "      <th></th>\n",
              "      <th>symbol</th>\n",
              "      <th>price</th>\n",
              "      <th>time</th>\n",
              "    </tr>\n",
              "  </thead>\n",
              "  <tbody>\n",
              "    <tr>\n",
              "      <th>59</th>\n",
              "      <td>AAVEUSDT</td>\n",
              "      <td>81.4</td>\n",
              "      <td>2023-04-15 07:04:42.914</td>\n",
              "    </tr>\n",
              "    <tr>\n",
              "      <th>192</th>\n",
              "      <td>AAVEUSDT</td>\n",
              "      <td>81.3</td>\n",
              "      <td>2023-04-15 07:06:48.448</td>\n",
              "    </tr>\n",
              "    <tr>\n",
              "      <th>325</th>\n",
              "      <td>AAVEUSDT</td>\n",
              "      <td>81.5</td>\n",
              "      <td>2023-04-15 07:09:01.928</td>\n",
              "    </tr>\n",
              "    <tr>\n",
              "      <th>458</th>\n",
              "      <td>AAVEUSDT</td>\n",
              "      <td>81.4</td>\n",
              "      <td>2023-04-15 07:11:03.419</td>\n",
              "    </tr>\n",
              "    <tr>\n",
              "      <th>591</th>\n",
              "      <td>AAVEUSDT</td>\n",
              "      <td>81.4</td>\n",
              "      <td>2023-04-15 07:13:02.779</td>\n",
              "    </tr>\n",
              "    <tr>\n",
              "      <th>...</th>\n",
              "      <td>...</td>\n",
              "      <td>...</td>\n",
              "      <td>...</td>\n",
              "    </tr>\n",
              "    <tr>\n",
              "      <th>12666</th>\n",
              "      <td>AAVEUSDT</td>\n",
              "      <td>81.3</td>\n",
              "      <td>2023-04-16 20:23:03.002000</td>\n",
              "    </tr>\n",
              "    <tr>\n",
              "      <th>12799</th>\n",
              "      <td>AAVEUSDT</td>\n",
              "      <td>81.4</td>\n",
              "      <td>2023-04-16 20:24:51.114000</td>\n",
              "    </tr>\n",
              "    <tr>\n",
              "      <th>12932</th>\n",
              "      <td>AAVEUSDT</td>\n",
              "      <td>81.5</td>\n",
              "      <td>2023-04-16 20:26:45.795000</td>\n",
              "    </tr>\n",
              "    <tr>\n",
              "      <th>13065</th>\n",
              "      <td>AAVEUSDT</td>\n",
              "      <td>81.5</td>\n",
              "      <td>2023-04-16 20:28:36.066000</td>\n",
              "    </tr>\n",
              "    <tr>\n",
              "      <th>13198</th>\n",
              "      <td>AAVEUSDT</td>\n",
              "      <td>81.5</td>\n",
              "      <td>2023-04-16 20:30:25.899000</td>\n",
              "    </tr>\n",
              "  </tbody>\n",
              "</table>\n",
              "<p>100 rows × 3 columns</p>\n",
              "</div>\n",
              "      <button class=\"colab-df-convert\" onclick=\"convertToInteractive('df-eaa7f650-443d-42a4-b339-5cebfd697f8e')\"\n",
              "              title=\"Convert this dataframe to an interactive table.\"\n",
              "              style=\"display:none;\">\n",
              "        \n",
              "  <svg xmlns=\"http://www.w3.org/2000/svg\" height=\"24px\"viewBox=\"0 0 24 24\"\n",
              "       width=\"24px\">\n",
              "    <path d=\"M0 0h24v24H0V0z\" fill=\"none\"/>\n",
              "    <path d=\"M18.56 5.44l.94 2.06.94-2.06 2.06-.94-2.06-.94-.94-2.06-.94 2.06-2.06.94zm-11 1L8.5 8.5l.94-2.06 2.06-.94-2.06-.94L8.5 2.5l-.94 2.06-2.06.94zm10 10l.94 2.06.94-2.06 2.06-.94-2.06-.94-.94-2.06-.94 2.06-2.06.94z\"/><path d=\"M17.41 7.96l-1.37-1.37c-.4-.4-.92-.59-1.43-.59-.52 0-1.04.2-1.43.59L10.3 9.45l-7.72 7.72c-.78.78-.78 2.05 0 2.83L4 21.41c.39.39.9.59 1.41.59.51 0 1.02-.2 1.41-.59l7.78-7.78 2.81-2.81c.8-.78.8-2.07 0-2.86zM5.41 20L4 18.59l7.72-7.72 1.47 1.35L5.41 20z\"/>\n",
              "  </svg>\n",
              "      </button>\n",
              "      \n",
              "  <style>\n",
              "    .colab-df-container {\n",
              "      display:flex;\n",
              "      flex-wrap:wrap;\n",
              "      gap: 12px;\n",
              "    }\n",
              "\n",
              "    .colab-df-convert {\n",
              "      background-color: #E8F0FE;\n",
              "      border: none;\n",
              "      border-radius: 50%;\n",
              "      cursor: pointer;\n",
              "      display: none;\n",
              "      fill: #1967D2;\n",
              "      height: 32px;\n",
              "      padding: 0 0 0 0;\n",
              "      width: 32px;\n",
              "    }\n",
              "\n",
              "    .colab-df-convert:hover {\n",
              "      background-color: #E2EBFA;\n",
              "      box-shadow: 0px 1px 2px rgba(60, 64, 67, 0.3), 0px 1px 3px 1px rgba(60, 64, 67, 0.15);\n",
              "      fill: #174EA6;\n",
              "    }\n",
              "\n",
              "    [theme=dark] .colab-df-convert {\n",
              "      background-color: #3B4455;\n",
              "      fill: #D2E3FC;\n",
              "    }\n",
              "\n",
              "    [theme=dark] .colab-df-convert:hover {\n",
              "      background-color: #434B5C;\n",
              "      box-shadow: 0px 1px 3px 1px rgba(0, 0, 0, 0.15);\n",
              "      filter: drop-shadow(0px 1px 2px rgba(0, 0, 0, 0.3));\n",
              "      fill: #FFFFFF;\n",
              "    }\n",
              "  </style>\n",
              "\n",
              "      <script>\n",
              "        const buttonEl =\n",
              "          document.querySelector('#df-eaa7f650-443d-42a4-b339-5cebfd697f8e button.colab-df-convert');\n",
              "        buttonEl.style.display =\n",
              "          google.colab.kernel.accessAllowed ? 'block' : 'none';\n",
              "\n",
              "        async function convertToInteractive(key) {\n",
              "          const element = document.querySelector('#df-eaa7f650-443d-42a4-b339-5cebfd697f8e');\n",
              "          const dataTable =\n",
              "            await google.colab.kernel.invokeFunction('convertToInteractive',\n",
              "                                                     [key], {});\n",
              "          if (!dataTable) return;\n",
              "\n",
              "          const docLinkHtml = 'Like what you see? Visit the ' +\n",
              "            '<a target=\"_blank\" href=https://colab.research.google.com/notebooks/data_table.ipynb>data table notebook</a>'\n",
              "            + ' to learn more about interactive tables.';\n",
              "          element.innerHTML = '';\n",
              "          dataTable['output_type'] = 'display_data';\n",
              "          await google.colab.output.renderOutput(dataTable, element);\n",
              "          const docLink = document.createElement('div');\n",
              "          docLink.innerHTML = docLinkHtml;\n",
              "          element.appendChild(docLink);\n",
              "        }\n",
              "      </script>\n",
              "    </div>\n",
              "  </div>\n",
              "  "
            ]
          },
          "metadata": {},
          "execution_count": 136
        }
      ]
    },
    {
      "cell_type": "markdown",
      "source": [
        "Разделение даты"
      ],
      "metadata": {
        "id": "_DkWIjV6B95p"
      }
    },
    {
      "cell_type": "code",
      "source": [
        "year = []\n",
        "month = []\n",
        "day = []\n",
        "hour = []\n",
        "minute = []\n",
        "second = []\n",
        "\n",
        "for i in range(len(df)):\n",
        "  date = df.iloc[i][2].split(' ')[0]\n",
        "  time = df.iloc[i][2].split(' ')[1]\n",
        "  year.append(int(date.split('-')[0]))\n",
        "  month.append(int(date.split('-')[1]))\n",
        "  day.append(int(date.split('-')[2]))\n",
        "  hour.append(int(time[:2]))\n",
        "  minute.append(int(time[3:5]))\n",
        "  second.append(int(time[6:8]))"
      ],
      "metadata": {
        "id": "amo_Eduz6vHQ"
      },
      "execution_count": 137,
      "outputs": []
    },
    {
      "cell_type": "code",
      "source": [
        "df['year'] = year\n",
        "df['month'] = month \n",
        "df['day'] = day \n",
        "df['hour'] = hour\n",
        "df['minute'] = minute\n",
        "df['second'] = second"
      ],
      "metadata": {
        "id": "t4E3lq_h0IOR"
      },
      "execution_count": 138,
      "outputs": []
    },
    {
      "cell_type": "code",
      "source": [
        "df = df.sort_values(by=['symbol','time'])"
      ],
      "metadata": {
        "id": "c0O1iY7Uyu1E"
      },
      "execution_count": 139,
      "outputs": []
    },
    {
      "cell_type": "markdown",
      "source": [
        "Кодирование валют в числовой вид"
      ],
      "metadata": {
        "id": "nFjY55rCCCBy"
      }
    },
    {
      "cell_type": "code",
      "source": [
        "uniq_cur = list(df['symbol'].unique())\n",
        "dict_cur = {uniq_cur[i]: i for i in range(len(uniq_cur))}"
      ],
      "metadata": {
        "id": "EW5otcuu3JHk"
      },
      "execution_count": 140,
      "outputs": []
    },
    {
      "cell_type": "code",
      "source": [
        "print(dict_cur)"
      ],
      "metadata": {
        "id": "hddXYupZ4Q1P",
        "colab": {
          "base_uri": "https://localhost:8080/"
        },
        "outputId": "a12b1294-0e92-4790-ba7c-169edb9460c7"
      },
      "execution_count": 141,
      "outputs": [
        {
          "output_type": "stream",
          "name": "stdout",
          "text": [
            "{'AAVEUSDT': 0, 'AGIXUSDT': 1, 'AGLDUSDT': 2, 'AIONUSDT': 3, 'AKROUSDT': 4, 'ALCXUSDT': 5, 'ALGOUSDT': 6, 'ANKRUSDT': 7, 'API3USDT': 8, 'ARDRUSDT': 9, 'ARPAUSDT': 10, 'ASTRUSDT': 11, 'ATOMUSDT': 12, 'AUTOUSDT': 13, 'AVAXUSDT': 14, 'BAKEUSDT': 15, 'BANDUSDT': 16, 'BEAMUSDT': 17, 'BEARUSDT': 18, 'BETAUSDT': 19, 'BETHUSDT': 20, 'BICOUSDT': 21, 'BIFIUSDT': 22, 'BKRWUSDT': 23, 'BONDUSDT': 24, 'BTTCUSDT': 25, 'BULLUSDT': 26, 'BUSDUSDT': 27, 'BZRXUSDT': 28, 'CAKEUSDT': 29, 'CELOUSDT': 30, 'CELRUSDT': 31, 'CITYUSDT': 32, 'COMPUSDT': 33, 'COTIUSDT': 34, 'CTSIUSDT': 35, 'CTXCUSDT': 36, 'DASHUSDT': 37, 'DATAUSDT': 38, 'DEGOUSDT': 39, 'DENTUSDT': 40, 'DEXEUSDT': 41, 'DOCKUSDT': 42, 'DODOUSDT': 43, 'DOGEUSDT': 44, 'DREPUSDT': 45, 'DUSKUSDT': 46, 'DYDXUSDT': 47, 'EGLDUSDT': 48, 'FARMUSDT': 49, 'FIDAUSDT': 50, 'FIROUSDT': 51, 'FLOWUSDT': 52, 'FLUXUSDT': 53, 'GALAUSDT': 54, 'GHSTUSDT': 55, 'GLMRUSDT': 56, 'HARDUSDT': 57, 'HBARUSDT': 58, 'HIFIUSDT': 59, 'HIGHUSDT': 60, 'HIVEUSDT': 61, 'HOOKUSDT': 62, 'IDEXUSDT': 63, 'IOSTUSDT': 64, 'IOTAUSDT': 65, 'IOTXUSDT': 66, 'IRISUSDT': 67, 'KAVAUSDT': 68, 'KEEPUSDT': 69, 'KLAYUSDT': 70, 'KP3RUSDT': 71, 'LENDUSDT': 72, 'LINAUSDT': 73, 'LINKUSDT': 74, 'LOKAUSDT': 75, 'LOOMUSDT': 76, 'LQTYUSDT': 77, 'LUNAUSDT': 78, 'LUNCUSDT': 79, 'MANAUSDT': 80, 'MASKUSDT': 81, 'MBOXUSDT': 82, 'MINAUSDT': 83, 'MITHUSDT': 84, 'MOVRUSDT': 85, 'NANOUSDT': 86, 'NEARUSDT': 87, 'NEBLUSDT': 88, 'NEXOUSDT': 89, 'NPXSUSDT': 90, 'NULSUSDT': 91, 'OOKIUSDT': 92, 'OSMOUSDT': 93, 'PAXGUSDT': 94, 'PERLUSDT': 95, 'PERPUSDT': 96, 'POLSUSDT': 97, 'POLYUSDT': 98, 'PONDUSDT': 99, 'POWRUSDT': 100, 'PROMUSDT': 101, 'PROSUSDT': 102, 'QTUMUSDT': 103, 'RAMPUSDT': 104, 'RAREUSDT': 105, 'RDNTUSDT': 106, 'REEFUSDT': 107, 'RNDRUSDT': 108, 'ROSEUSDT': 109, 'RUNEUSDT': 110, 'SANDUSDT': 111, 'SCRTUSDT': 112, 'SHIBUSDT': 113, 'STMXUSDT': 114, 'STPTUSDT': 115, 'SUSDUSDT': 116, 'TOMOUSDT': 117, 'TORNUSDT': 118, 'TROYUSDT': 119, 'TUSDUSDT': 120, 'UNFIUSDT': 121, 'USDCUSDT': 122, 'USDPUSDT': 123, 'USDSUSDT': 124, 'USTCUSDT': 125, 'VIDTUSDT': 126, 'VITEUSDT': 127, 'VTHOUSDT': 128, 'WAXPUSDT': 129, 'WINGUSDT': 130, 'WNXMUSDT': 131, 'YFIIUSDT': 132}\n"
          ]
        }
      ]
    },
    {
      "cell_type": "code",
      "source": [
        "df['symbol'] = df['symbol'].map(dict_cur)"
      ],
      "metadata": {
        "id": "xHHfFQjE4fjS"
      },
      "execution_count": 142,
      "outputs": []
    },
    {
      "cell_type": "code",
      "source": [
        "df['symbol'] = np.asarray(df['symbol']).astype(np.int32)"
      ],
      "metadata": {
        "id": "46FefjAT576B"
      },
      "execution_count": 143,
      "outputs": []
    },
    {
      "cell_type": "code",
      "source": [
        "cat_symb = (to_categorical(df[['symbol']].to_numpy(),len(dict_cur)))"
      ],
      "metadata": {
        "id": "-rvMpkyg7ckb"
      },
      "execution_count": 144,
      "outputs": []
    },
    {
      "cell_type": "code",
      "source": [
        "split = len(df)*85//100\n",
        "split"
      ],
      "metadata": {
        "id": "dvxitpELeEDa",
        "colab": {
          "base_uri": "https://localhost:8080/"
        },
        "outputId": "410a76f2-6e44-44d5-d923-a808dff5a5f1"
      },
      "execution_count": 145,
      "outputs": [
        {
          "output_type": "execute_result",
          "data": {
            "text/plain": [
              "12750"
            ]
          },
          "metadata": {},
          "execution_count": 145
        }
      ]
    },
    {
      "cell_type": "code",
      "source": [
        "data, target = df[['symbol','year','month','day','hour','minute','second']], df[['price']].to_numpy()"
      ],
      "metadata": {
        "id": "y5X_0Vm0dSvq"
      },
      "execution_count": 146,
      "outputs": []
    },
    {
      "cell_type": "code",
      "source": [
        "target"
      ],
      "metadata": {
        "colab": {
          "base_uri": "https://localhost:8080/"
        },
        "id": "ovBqyjcv7qHu",
        "outputId": "1f98e2a7-9b19-401d-f8c7-1a23f40650c4"
      },
      "execution_count": 147,
      "outputs": [
        {
          "output_type": "execute_result",
          "data": {
            "text/plain": [
              "array([[  81.4],\n",
              "       [  81.3],\n",
              "       [  81.5],\n",
              "       ...,\n",
              "       [1131.3],\n",
              "       [1130.9],\n",
              "       [1131.2]])"
            ]
          },
          "metadata": {},
          "execution_count": 147
        }
      ]
    },
    {
      "cell_type": "markdown",
      "source": [
        "Стандартизация данных"
      ],
      "metadata": {
        "id": "vqFgO4__CF22"
      }
    },
    {
      "cell_type": "code",
      "source": [
        "scaler = StandardScaler()\n",
        "data = scaler.fit_transform(data)\n",
        "#target = scaler.fit_transform(target)"
      ],
      "metadata": {
        "id": "063THHZlgzNg"
      },
      "execution_count": 148,
      "outputs": []
    },
    {
      "cell_type": "code",
      "source": [
        "data = pd.DataFrame(data)\n"
      ],
      "metadata": {
        "id": "8op9kfqj-TmR"
      },
      "execution_count": 150,
      "outputs": []
    },
    {
      "cell_type": "code",
      "source": [
        "data[0] = cat_symb"
      ],
      "metadata": {
        "id": "SSVkWEl1E5pP"
      },
      "execution_count": 154,
      "outputs": []
    },
    {
      "cell_type": "code",
      "source": [
        "data[0]"
      ],
      "metadata": {
        "colab": {
          "base_uri": "https://localhost:8080/"
        },
        "id": "O56zbABFD8AS",
        "outputId": "edd65e63-911f-46b0-bc95-4e3bb5faa338"
      },
      "execution_count": 155,
      "outputs": [
        {
          "output_type": "execute_result",
          "data": {
            "text/plain": [
              "0        1.0\n",
              "1        1.0\n",
              "2        1.0\n",
              "3        1.0\n",
              "4        1.0\n",
              "        ... \n",
              "14996    0.0\n",
              "14997    0.0\n",
              "14998    0.0\n",
              "14999    0.0\n",
              "15000    0.0\n",
              "Name: 0, Length: 15001, dtype: float32"
            ]
          },
          "metadata": {},
          "execution_count": 155
        }
      ]
    },
    {
      "cell_type": "markdown",
      "source": [
        "Создание датасета"
      ],
      "metadata": {
        "id": "WukqkBJXCITb"
      }
    },
    {
      "cell_type": "code",
      "source": [
        "x = []\n",
        "y = []\n",
        "timesteps = 100\n",
        "for i in range(timesteps, len(data)):\n",
        "# Кодирование даты\n",
        "  x.append(np.array(data[i-timesteps:i]))\n",
        "  y.append(target[i])\n",
        "x, y = np.array(x), np.array(y)"
      ],
      "metadata": {
        "id": "y32Rr-JGiO-D",
        "colab": {
          "base_uri": "https://localhost:8080/",
          "height": 380
        },
        "outputId": "96fea07b-a332-4ab3-e40f-fd897a6e5984"
      },
      "execution_count": 51,
      "outputs": [
        {
          "output_type": "error",
          "ename": "ValueError",
          "evalue": "ignored",
          "traceback": [
            "\u001b[0;31m---------------------------------------------------------------------------\u001b[0m",
            "\u001b[0;31mValueError\u001b[0m                                Traceback (most recent call last)",
            "\u001b[0;32m<ipython-input-51-0fb1f587ddc4>\u001b[0m in \u001b[0;36m<cell line: 4>\u001b[0;34m()\u001b[0m\n\u001b[1;32m      4\u001b[0m \u001b[0;32mfor\u001b[0m \u001b[0mi\u001b[0m \u001b[0;32min\u001b[0m \u001b[0mrange\u001b[0m\u001b[0;34m(\u001b[0m\u001b[0mtimesteps\u001b[0m\u001b[0;34m,\u001b[0m \u001b[0mlen\u001b[0m\u001b[0;34m(\u001b[0m\u001b[0mdata\u001b[0m\u001b[0;34m)\u001b[0m\u001b[0;34m)\u001b[0m\u001b[0;34m:\u001b[0m\u001b[0;34m\u001b[0m\u001b[0;34m\u001b[0m\u001b[0m\n\u001b[1;32m      5\u001b[0m \u001b[0;31m# Кодирование даты\u001b[0m\u001b[0;34m\u001b[0m\u001b[0;34m\u001b[0m\u001b[0m\n\u001b[0;32m----> 6\u001b[0;31m   \u001b[0mx\u001b[0m\u001b[0;34m.\u001b[0m\u001b[0mappend\u001b[0m\u001b[0;34m(\u001b[0m\u001b[0mnp\u001b[0m\u001b[0;34m.\u001b[0m\u001b[0marray\u001b[0m\u001b[0;34m(\u001b[0m\u001b[0mdata\u001b[0m\u001b[0;34m[\u001b[0m\u001b[0mi\u001b[0m\u001b[0;34m-\u001b[0m\u001b[0mtimesteps\u001b[0m\u001b[0;34m:\u001b[0m\u001b[0mi\u001b[0m\u001b[0;34m]\u001b[0m\u001b[0;34m)\u001b[0m\u001b[0;34m)\u001b[0m\u001b[0;34m\u001b[0m\u001b[0;34m\u001b[0m\u001b[0m\n\u001b[0m\u001b[1;32m      7\u001b[0m   \u001b[0my\u001b[0m\u001b[0;34m.\u001b[0m\u001b[0mappend\u001b[0m\u001b[0;34m(\u001b[0m\u001b[0mtarget\u001b[0m\u001b[0;34m[\u001b[0m\u001b[0mi\u001b[0m\u001b[0;34m]\u001b[0m\u001b[0;34m)\u001b[0m\u001b[0;34m\u001b[0m\u001b[0;34m\u001b[0m\u001b[0m\n\u001b[1;32m      8\u001b[0m \u001b[0mx\u001b[0m\u001b[0;34m,\u001b[0m \u001b[0my\u001b[0m \u001b[0;34m=\u001b[0m \u001b[0mnp\u001b[0m\u001b[0;34m.\u001b[0m\u001b[0marray\u001b[0m\u001b[0;34m(\u001b[0m\u001b[0mx\u001b[0m\u001b[0;34m)\u001b[0m\u001b[0;34m,\u001b[0m \u001b[0mnp\u001b[0m\u001b[0;34m.\u001b[0m\u001b[0marray\u001b[0m\u001b[0;34m(\u001b[0m\u001b[0my\u001b[0m\u001b[0;34m)\u001b[0m\u001b[0;34m\u001b[0m\u001b[0;34m\u001b[0m\u001b[0m\n",
            "\u001b[0;32m/usr/local/lib/python3.9/dist-packages/pandas/core/generic.py\u001b[0m in \u001b[0;36m__array__\u001b[0;34m(self, dtype)\u001b[0m\n\u001b[1;32m   2068\u001b[0m \u001b[0;34m\u001b[0m\u001b[0m\n\u001b[1;32m   2069\u001b[0m     \u001b[0;32mdef\u001b[0m \u001b[0m__array__\u001b[0m\u001b[0;34m(\u001b[0m\u001b[0mself\u001b[0m\u001b[0;34m,\u001b[0m \u001b[0mdtype\u001b[0m\u001b[0;34m:\u001b[0m \u001b[0mnpt\u001b[0m\u001b[0;34m.\u001b[0m\u001b[0mDTypeLike\u001b[0m \u001b[0;34m|\u001b[0m \u001b[0;32mNone\u001b[0m \u001b[0;34m=\u001b[0m \u001b[0;32mNone\u001b[0m\u001b[0;34m)\u001b[0m \u001b[0;34m->\u001b[0m \u001b[0mnp\u001b[0m\u001b[0;34m.\u001b[0m\u001b[0mndarray\u001b[0m\u001b[0;34m:\u001b[0m\u001b[0;34m\u001b[0m\u001b[0;34m\u001b[0m\u001b[0m\n\u001b[0;32m-> 2070\u001b[0;31m         \u001b[0;32mreturn\u001b[0m \u001b[0mnp\u001b[0m\u001b[0;34m.\u001b[0m\u001b[0masarray\u001b[0m\u001b[0;34m(\u001b[0m\u001b[0mself\u001b[0m\u001b[0;34m.\u001b[0m\u001b[0m_values\u001b[0m\u001b[0;34m,\u001b[0m \u001b[0mdtype\u001b[0m\u001b[0;34m=\u001b[0m\u001b[0mdtype\u001b[0m\u001b[0;34m)\u001b[0m\u001b[0;34m\u001b[0m\u001b[0;34m\u001b[0m\u001b[0m\n\u001b[0m\u001b[1;32m   2071\u001b[0m \u001b[0;34m\u001b[0m\u001b[0m\n\u001b[1;32m   2072\u001b[0m     def __array_wrap__(\n",
            "\u001b[0;32m/usr/local/lib/python3.9/dist-packages/pandas/core/frame.py\u001b[0m in \u001b[0;36m_values\u001b[0;34m(self)\u001b[0m\n\u001b[1;32m    969\u001b[0m         \u001b[0mblocks\u001b[0m \u001b[0;34m=\u001b[0m \u001b[0mmgr\u001b[0m\u001b[0;34m.\u001b[0m\u001b[0mblocks\u001b[0m\u001b[0;34m\u001b[0m\u001b[0;34m\u001b[0m\u001b[0m\n\u001b[1;32m    970\u001b[0m         \u001b[0;32mif\u001b[0m \u001b[0mlen\u001b[0m\u001b[0;34m(\u001b[0m\u001b[0mblocks\u001b[0m\u001b[0;34m)\u001b[0m \u001b[0;34m!=\u001b[0m \u001b[0;36m1\u001b[0m\u001b[0;34m:\u001b[0m\u001b[0;34m\u001b[0m\u001b[0;34m\u001b[0m\u001b[0m\n\u001b[0;32m--> 971\u001b[0;31m             \u001b[0;32mreturn\u001b[0m \u001b[0mself\u001b[0m\u001b[0;34m.\u001b[0m\u001b[0mvalues\u001b[0m\u001b[0;34m\u001b[0m\u001b[0;34m\u001b[0m\u001b[0m\n\u001b[0m\u001b[1;32m    972\u001b[0m \u001b[0;34m\u001b[0m\u001b[0m\n\u001b[1;32m    973\u001b[0m         \u001b[0marr\u001b[0m \u001b[0;34m=\u001b[0m \u001b[0mblocks\u001b[0m\u001b[0;34m[\u001b[0m\u001b[0;36m0\u001b[0m\u001b[0;34m]\u001b[0m\u001b[0;34m.\u001b[0m\u001b[0mvalues\u001b[0m\u001b[0;34m\u001b[0m\u001b[0;34m\u001b[0m\u001b[0m\n",
            "\u001b[0;32m/usr/local/lib/python3.9/dist-packages/pandas/core/frame.py\u001b[0m in \u001b[0;36mvalues\u001b[0;34m(self)\u001b[0m\n\u001b[1;32m  11737\u001b[0m         \"\"\"\n\u001b[1;32m  11738\u001b[0m         \u001b[0mself\u001b[0m\u001b[0;34m.\u001b[0m\u001b[0m_consolidate_inplace\u001b[0m\u001b[0;34m(\u001b[0m\u001b[0;34m)\u001b[0m\u001b[0;34m\u001b[0m\u001b[0;34m\u001b[0m\u001b[0m\n\u001b[0;32m> 11739\u001b[0;31m         \u001b[0;32mreturn\u001b[0m \u001b[0mself\u001b[0m\u001b[0;34m.\u001b[0m\u001b[0m_mgr\u001b[0m\u001b[0;34m.\u001b[0m\u001b[0mas_array\u001b[0m\u001b[0;34m(\u001b[0m\u001b[0;34m)\u001b[0m\u001b[0;34m\u001b[0m\u001b[0;34m\u001b[0m\u001b[0m\n\u001b[0m\u001b[1;32m  11740\u001b[0m \u001b[0;34m\u001b[0m\u001b[0m\n\u001b[1;32m  11741\u001b[0m     \u001b[0;34m@\u001b[0m\u001b[0moverload\u001b[0m\u001b[0;34m\u001b[0m\u001b[0;34m\u001b[0m\u001b[0m\n",
            "\u001b[0;32m/usr/local/lib/python3.9/dist-packages/pandas/core/internals/managers.py\u001b[0m in \u001b[0;36mas_array\u001b[0;34m(self, dtype, copy, na_value)\u001b[0m\n\u001b[1;32m   1768\u001b[0m                     \u001b[0marr\u001b[0m \u001b[0;34m=\u001b[0m \u001b[0marr\u001b[0m\u001b[0;34m.\u001b[0m\u001b[0mastype\u001b[0m\u001b[0;34m(\u001b[0m\u001b[0mdtype\u001b[0m\u001b[0;34m,\u001b[0m \u001b[0mcopy\u001b[0m\u001b[0;34m=\u001b[0m\u001b[0;32mFalse\u001b[0m\u001b[0;34m)\u001b[0m\u001b[0;34m\u001b[0m\u001b[0;34m\u001b[0m\u001b[0m\n\u001b[1;32m   1769\u001b[0m         \u001b[0;32melse\u001b[0m\u001b[0;34m:\u001b[0m\u001b[0;34m\u001b[0m\u001b[0;34m\u001b[0m\u001b[0m\n\u001b[0;32m-> 1770\u001b[0;31m             \u001b[0marr\u001b[0m \u001b[0;34m=\u001b[0m \u001b[0mself\u001b[0m\u001b[0;34m.\u001b[0m\u001b[0m_interleave\u001b[0m\u001b[0;34m(\u001b[0m\u001b[0mdtype\u001b[0m\u001b[0;34m=\u001b[0m\u001b[0mdtype\u001b[0m\u001b[0;34m,\u001b[0m \u001b[0mna_value\u001b[0m\u001b[0;34m=\u001b[0m\u001b[0mna_value\u001b[0m\u001b[0;34m)\u001b[0m\u001b[0;34m\u001b[0m\u001b[0;34m\u001b[0m\u001b[0m\n\u001b[0m\u001b[1;32m   1771\u001b[0m             \u001b[0;31m# The underlying data was copied within _interleave\u001b[0m\u001b[0;34m\u001b[0m\u001b[0;34m\u001b[0m\u001b[0m\n\u001b[1;32m   1772\u001b[0m             \u001b[0mcopy\u001b[0m \u001b[0;34m=\u001b[0m \u001b[0;32mFalse\u001b[0m\u001b[0;34m\u001b[0m\u001b[0;34m\u001b[0m\u001b[0m\n",
            "\u001b[0;32m/usr/local/lib/python3.9/dist-packages/pandas/core/internals/managers.py\u001b[0m in \u001b[0;36m_interleave\u001b[0;34m(self, dtype, na_value)\u001b[0m\n\u001b[1;32m   1833\u001b[0m             \u001b[0;32melse\u001b[0m\u001b[0;34m:\u001b[0m\u001b[0;34m\u001b[0m\u001b[0;34m\u001b[0m\u001b[0m\n\u001b[1;32m   1834\u001b[0m                 \u001b[0marr\u001b[0m \u001b[0;34m=\u001b[0m \u001b[0mblk\u001b[0m\u001b[0;34m.\u001b[0m\u001b[0mget_values\u001b[0m\u001b[0;34m(\u001b[0m\u001b[0mdtype\u001b[0m\u001b[0;34m)\u001b[0m\u001b[0;34m\u001b[0m\u001b[0;34m\u001b[0m\u001b[0m\n\u001b[0;32m-> 1835\u001b[0;31m             \u001b[0mresult\u001b[0m\u001b[0;34m[\u001b[0m\u001b[0mrl\u001b[0m\u001b[0;34m.\u001b[0m\u001b[0mindexer\u001b[0m\u001b[0;34m]\u001b[0m \u001b[0;34m=\u001b[0m \u001b[0marr\u001b[0m\u001b[0;34m\u001b[0m\u001b[0;34m\u001b[0m\u001b[0m\n\u001b[0m\u001b[1;32m   1836\u001b[0m             \u001b[0mitemmask\u001b[0m\u001b[0;34m[\u001b[0m\u001b[0mrl\u001b[0m\u001b[0;34m.\u001b[0m\u001b[0mindexer\u001b[0m\u001b[0;34m]\u001b[0m \u001b[0;34m=\u001b[0m \u001b[0;36m1\u001b[0m\u001b[0;34m\u001b[0m\u001b[0;34m\u001b[0m\u001b[0m\n\u001b[1;32m   1837\u001b[0m \u001b[0;34m\u001b[0m\u001b[0m\n",
            "\u001b[0;31mValueError\u001b[0m: could not broadcast input array from shape (133,100) into shape (1,100)"
          ]
        }
      ]
    },
    {
      "cell_type": "code",
      "source": [
        "x_train, x_test = x[:split], x[split:]\n",
        "y_train, y_test = y[:split], y[split:]"
      ],
      "metadata": {
        "id": "18c6rwUsg2PX"
      },
      "execution_count": null,
      "outputs": []
    },
    {
      "cell_type": "code",
      "source": [
        "x_train.shape, y_train.shape, x_test.shape, y_test.shape"
      ],
      "metadata": {
        "id": "J5XropunfZ7M"
      },
      "execution_count": null,
      "outputs": []
    },
    {
      "cell_type": "markdown",
      "source": [
        "# Модель"
      ],
      "metadata": {
        "id": "BR38PYhDCLzU"
      }
    },
    {
      "cell_type": "code",
      "source": [
        "model = Sequential()\n",
        "model.add(LSTM(12, input_shape=(x_train.shape[1], x_train.shape[-1]), return_sequences=True))\n",
        "model.add(Dropout(0.15))\n",
        "model.add(LSTM(units = 2))\n",
        "model.add(Dropout(0.15))\n",
        "model.add(Dense(units = 1))"
      ],
      "metadata": {
        "id": "Jk4Dv4-Vid6F"
      },
      "execution_count": null,
      "outputs": []
    },
    {
      "cell_type": "code",
      "source": [
        "model.compile(loss = 'mae', optimizer = Adam(learning_rate=0.11),metrics = ['mse'])"
      ],
      "metadata": {
        "id": "xgN3VB3BiiYm"
      },
      "execution_count": null,
      "outputs": []
    },
    {
      "cell_type": "code",
      "source": [
        "filepath=\"/content/weights--{loss:.2f}.hdf5\"\n",
        "checkpoint = ModelCheckpoint(filepath, monitor='loss', verbose=1, save_best_only=True, mode='min')\n",
        "callbacks_list = [checkpoint]"
      ],
      "metadata": {
        "id": "aL59kNdET7Ga"
      },
      "execution_count": null,
      "outputs": []
    },
    {
      "cell_type": "code",
      "source": [
        "history = model.fit(x_train, y_train, epochs=20, batch_size=32,validation_split=0.1, verbose=2,callbacks = callbacks_list)"
      ],
      "metadata": {
        "id": "ctCxfjIlimk1"
      },
      "execution_count": null,
      "outputs": []
    },
    {
      "cell_type": "markdown",
      "source": [
        "# Оценка решения"
      ],
      "metadata": {
        "id": "7BcJy1H0CT1m"
      }
    },
    {
      "cell_type": "code",
      "source": [
        "fig = plt.figure(figsize=(18, 4))\n",
        "\n",
        "ax = fig.add_subplot(121)\n",
        "ax.plot(history.history['mse'],'--',color='black')\n",
        "ax.plot(history.history['val_mse'],color='black')\n",
        "ax.set_title('График точности')\n",
        "ax.set_ylabel('accuracy')\n",
        "ax.set_xlabel('epoch')\n",
        "ax.legend(['train', 'test'], loc='upper left')\n",
        "ax.grid(True)\n",
        "ax2 = fig.add_subplot(122)\n",
        "ax2.plot(history.history['loss'],'--',color='black')\n",
        "ax2.plot(history.history['val_loss'],color='black')\n",
        "ax2.set_title('График функции потерь')\n",
        "ax2.set_ylabel('loss')\n",
        "ax2.set_xlabel('epoch')\n",
        "ax2.legend(['train', 'test'], loc='upper left')\n",
        "ax2.grid(True)\n",
        "plt.show()\n"
      ],
      "metadata": {
        "id": "w4pzm7Ip1TwZ"
      },
      "execution_count": null,
      "outputs": []
    },
    {
      "cell_type": "code",
      "source": [
        "test = pd.DataFrame()\n",
        "test['symbol'] = df['symbol'][split+timesteps:]\n",
        "test['year'] = year[split+timesteps:]\n",
        "test['month'] = month[split+timesteps:]\n",
        "test['day'] = day[split+timesteps:]\n",
        "test['hour'] = hour[split+timesteps:]\n",
        "test['minute'] = minute[split+timesteps:]\n",
        "test['second'] = second[split+timesteps:]\n",
        "y_pred = list(model.predict(x_test))\n",
        "test['y_pred'] = scaler.inverse_transform(y_pred)\n",
        "test['y_real'] = scaler.inverse_transform(y_test)\n",
        "test['отклонение'] = (test['y_pred'] - test['y_real'])\n",
        "test['%'] = abs(test['отклонение']/test['y_real'])*100\n",
        "test['y_pred'] = test['y_pred']\n",
        "\n",
        "test.describe()"
      ],
      "metadata": {
        "id": "nAAgieCp_2S9"
      },
      "execution_count": null,
      "outputs": []
    },
    {
      "cell_type": "code",
      "source": [
        "test.head(20)"
      ],
      "metadata": {
        "id": "bLNoXIbhhYqh"
      },
      "execution_count": null,
      "outputs": []
    }
  ]
}